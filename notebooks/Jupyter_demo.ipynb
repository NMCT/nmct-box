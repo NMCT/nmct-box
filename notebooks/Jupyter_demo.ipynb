{
 "cells": [
  {
   "cell_type": "markdown",
   "metadata": {},
   "source": [
    "# NMCT-Box Jupyter demo"
   ]
  },
  {
   "cell_type": "markdown",
   "metadata": {},
   "source": [
    "- Via de Jupyter webinterface kan je live code uitvoeren op de NMCT-box. \n",
    "- Het resultaat kan je zo opslaan als \"notebook\", maar ook als zuiver Python-bestand\n",
    "- Of exporteren als HTML, Markdown, PDF,... "
   ]
  },
  {
   "cell_type": "markdown",
   "metadata": {},
   "source": [
    "## NMCT Box basics"
   ]
  },
  {
   "cell_type": "code",
   "execution_count": 1,
   "metadata": {
    "collapsed": true
   },
   "outputs": [
    {
     "name": "stdout",
     "output_type": "stream",
     "text": [
      "Acceleration(x=10.5912, y=0.5492, z=-1.1768)\n",
      "Tilt(roll=2.9502546890263526, pitch=83.00954422765167)\n"
     ]
    }
   ],
   "source": [
    "import nmct.box\n",
    "\n",
    "acc = nmct.box.get_accelerometer()\n",
    "print(acc.measure())\n",
    "print(acc.tilt())\n"
   ]
  },
  {
   "cell_type": "code",
   "execution_count": null,
   "metadata": {
    "collapsed": true
   },
   "outputs": [
    {
     "name": "stdout",
     "output_type": "stream",
     "text": [
      "21.0\n"
     ]
    }
   ],
   "source": [
    "devices = nmct.box.list_onewire_ids()\n",
    "print(devices)\n",
    "if len(devices) == 1:\n",
    "    t = nmct.box.get_thermometer(devices[0]).measure()\n",
    "    print(\"It's {} \\N{DEGREE SIGN}C\".format(t))"
   ]
  },
  {
   "cell_type": "code",
   "execution_count": 3,
   "metadata": {
    "collapsed": false
   },
   "outputs": [
    {
     "name": "stdout",
     "output_type": "stream",
     "text": [
      "You pressed!\n"
     ]
    }
   ],
   "source": [
    "import aiy.voicehat\n",
    "from datetime import datetime\n",
    "button = aiy.voicehat.get_button()\n",
    "print(\"It's now {}\".format(datetime.utcnow()))\n",
    "button.wait_for_press()\n",
    "print(\"You pressed at {}!\".format(datetime.utcnow()))\n"
   ]
  },
  {
   "cell_type": "markdown",
   "metadata": {},
   "source": [
    "## Watson Conversation"
   ]
  },
  {
   "cell_type": "code",
   "execution_count": null,
   "metadata": {
    "scrolled": true,
    "collapsed": true
   },
   "outputs": [],
   "source": [
    "import sys\n",
    "\n",
    "from nmct import watson\n",
    "\n",
    "credentials = {\n",
    "    \"url\": \"https://gateway-fra.watsonplatform.net/conversation/api\",\n",
    "    \"username\": \"509bfc4e-9978-4fd7-8354-cad53285ecdf\",\n",
    "    \"password\": \"TUpR7gIZUc1u\"\n",
    "}\n",
    "workspace_id = \"9de1dde4-e3a6-406b-9913-82e5ce74f64c\"\n",
    "\n",
    "cnv = watson.get_conversation(workspace_id, credentials)\n",
    "intents, entities, output = cnv.message(\"Hey babe!\")\n",
    "print(output[\"text\"][0])\n"
   ]
  },
  {
   "cell_type": "code",
   "execution_count": null,
   "metadata": {
    "scrolled": true,
    "collapsed": true
   },
   "outputs": [],
   "source": [
    "\n",
    "\n",
    "while not cnv.finished:\n",
    "    print(\"\\n------------------------------------------------------------------------------------\")\n",
    "    text = input()\n",
    "    intents, entities, output = cnv.message(text)\n",
    "    print(\"Intents: {} \".format(intents))\n",
    "    print(\"Entities: {} \".format(entities))\n",
    "    print(\"Output: {} \".format(output))\n",
    "    print\n",
    "    if \"goodbyes\" in intents:\n",
    "        cnv.finish()\n"
   ]
  },
  {
   "cell_type": "markdown",
   "metadata": {},
   "source": [
    "## Speech recognition"
   ]
  },
  {
   "cell_type": "code",
   "execution_count": null,
   "metadata": {},
   "outputs": [],
   "source": [
    "from nmct import box, watson, Color, Palette\n",
    "import aiy.voicehat\n",
    "\n",
    "stt = watson.get_recognizer()\n",
    "button = aiy.voicehat.get_button()\n",
    "ring = box.get_pixel_ring()\n",
    "running = True\n",
    "\n",
    "\n",
    "def stop():\n",
    "    running = False\n",
    "\n",
    "\n",
    "button.on_press(stop)\n",
    "\n",
    "while running:\n",
    "    word = stt.recognize()\n",
    "    \n",
    "    if word in Palette:\n",
    "        color = Color.by_name(word)\n",
    "        ring.queue_effect(\"fill\", color)\n",
    "    else:\n",
    "        nmct.box.play_sound(\"glass\")\n"
   ]
  },
  {
   "cell_type": "code",
   "execution_count": null,
   "metadata": {},
   "outputs": [],
   "source": []
  },
  {
   "cell_type": "code",
   "execution_count": null,
   "metadata": {},
   "outputs": [],
   "source": []
  }
 ],
 "metadata": {
  "kernelspec": {
   "display_name": "Python 3",
   "language": "python",
   "name": "python3"
  },
  "language_info": {
   "codemirror_mode": {
    "name": "ipython",
    "version": 3
   },
   "file_extension": ".py",
   "mimetype": "text/x-python",
   "name": "python",
   "nbconvert_exporter": "python",
   "pygments_lexer": "ipython3",
   "version": "3.5.3"
  }
 },
 "nbformat": 4,
 "nbformat_minor": 2
}
